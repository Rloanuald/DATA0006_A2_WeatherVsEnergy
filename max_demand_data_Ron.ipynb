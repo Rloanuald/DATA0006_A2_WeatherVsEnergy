{
 "cells": [
  {
   "cell_type": "code",
   "execution_count": 197,
   "metadata": {},
   "outputs": [
    {
     "data": {
      "text/plain": [
       "'\\nstep 1-3, everyone involved\\nstep 4-6, 1-2 people do exploration and prediction, can have >1 models\\nstep 7 , everyone\\n'"
      ]
     },
     "execution_count": 197,
     "metadata": {},
     "output_type": "execute_result"
    }
   ],
   "source": [
    "# According to DataFlowChart.png, Daniel advised the task allocations:\n",
    "'''\n",
    "step 1-3, everyone involved\n",
    "step 4-6, 1-2 people do exploration and prediction, can have >1 models\n",
    "step 7 , everyone\n",
    "'''"
   ]
  },
  {
   "cell_type": "code",
   "execution_count": 198,
   "metadata": {},
   "outputs": [],
   "source": [
    "import pandas as pd\n",
    "import numpy as np\n",
    "import matplotlib.pyplot as plt\n",
    "%matplotlib inline"
   ]
  },
  {
   "cell_type": "code",
   "execution_count": 227,
   "metadata": {},
   "outputs": [
    {
     "data": {
      "text/html": [
       "<div>\n",
       "<style scoped>\n",
       "    .dataframe tbody tr th:only-of-type {\n",
       "        vertical-align: middle;\n",
       "    }\n",
       "\n",
       "    .dataframe tbody tr th {\n",
       "        vertical-align: top;\n",
       "    }\n",
       "\n",
       "    .dataframe thead th {\n",
       "        text-align: right;\n",
       "    }\n",
       "</style>\n",
       "<table border=\"1\" class=\"dataframe\">\n",
       "  <thead>\n",
       "    <tr style=\"text-align: right;\">\n",
       "      <th></th>\n",
       "      <th>REGION</th>\n",
       "      <th>SETTLEMENTDATE</th>\n",
       "      <th>TOTALDEMAND</th>\n",
       "      <th>PRICECATEGORY</th>\n",
       "    </tr>\n",
       "  </thead>\n",
       "  <tbody>\n",
       "    <tr>\n",
       "      <th>0</th>\n",
       "      <td>VIC1</td>\n",
       "      <td>1/01/2021 0:30</td>\n",
       "      <td>4179.21</td>\n",
       "      <td>LOW</td>\n",
       "    </tr>\n",
       "    <tr>\n",
       "      <th>1</th>\n",
       "      <td>VIC1</td>\n",
       "      <td>1/01/2021 1:00</td>\n",
       "      <td>4047.76</td>\n",
       "      <td>LOW</td>\n",
       "    </tr>\n",
       "    <tr>\n",
       "      <th>2</th>\n",
       "      <td>VIC1</td>\n",
       "      <td>1/01/2021 1:30</td>\n",
       "      <td>3934.70</td>\n",
       "      <td>LOW</td>\n",
       "    </tr>\n",
       "    <tr>\n",
       "      <th>3</th>\n",
       "      <td>VIC1</td>\n",
       "      <td>1/01/2021 2:00</td>\n",
       "      <td>3766.45</td>\n",
       "      <td>LOW</td>\n",
       "    </tr>\n",
       "    <tr>\n",
       "      <th>4</th>\n",
       "      <td>VIC1</td>\n",
       "      <td>1/01/2021 2:30</td>\n",
       "      <td>3590.37</td>\n",
       "      <td>LOW</td>\n",
       "    </tr>\n",
       "    <tr>\n",
       "      <th>...</th>\n",
       "      <td>...</td>\n",
       "      <td>...</td>\n",
       "      <td>...</td>\n",
       "      <td>...</td>\n",
       "    </tr>\n",
       "    <tr>\n",
       "      <th>11659</th>\n",
       "      <td>VIC1</td>\n",
       "      <td>31/08/2021 22:00</td>\n",
       "      <td>4861.91</td>\n",
       "      <td>MEDIUM</td>\n",
       "    </tr>\n",
       "    <tr>\n",
       "      <th>11660</th>\n",
       "      <td>VIC1</td>\n",
       "      <td>31/08/2021 22:30</td>\n",
       "      <td>4748.74</td>\n",
       "      <td>MEDIUM</td>\n",
       "    </tr>\n",
       "    <tr>\n",
       "      <th>11661</th>\n",
       "      <td>VIC1</td>\n",
       "      <td>31/08/2021 23:00</td>\n",
       "      <td>4620.09</td>\n",
       "      <td>MEDIUM</td>\n",
       "    </tr>\n",
       "    <tr>\n",
       "      <th>11662</th>\n",
       "      <td>VIC1</td>\n",
       "      <td>31/08/2021 23:30</td>\n",
       "      <td>4834.00</td>\n",
       "      <td>MEDIUM</td>\n",
       "    </tr>\n",
       "    <tr>\n",
       "      <th>11663</th>\n",
       "      <td>VIC1</td>\n",
       "      <td>1/09/2021 0:00</td>\n",
       "      <td>4811.27</td>\n",
       "      <td>MEDIUM</td>\n",
       "    </tr>\n",
       "  </tbody>\n",
       "</table>\n",
       "<p>11664 rows × 4 columns</p>\n",
       "</div>"
      ],
      "text/plain": [
       "      REGION    SETTLEMENTDATE  TOTALDEMAND PRICECATEGORY\n",
       "0       VIC1    1/01/2021 0:30      4179.21           LOW\n",
       "1       VIC1    1/01/2021 1:00      4047.76           LOW\n",
       "2       VIC1    1/01/2021 1:30      3934.70           LOW\n",
       "3       VIC1    1/01/2021 2:00      3766.45           LOW\n",
       "4       VIC1    1/01/2021 2:30      3590.37           LOW\n",
       "...      ...               ...          ...           ...\n",
       "11659   VIC1  31/08/2021 22:00      4861.91        MEDIUM\n",
       "11660   VIC1  31/08/2021 22:30      4748.74        MEDIUM\n",
       "11661   VIC1  31/08/2021 23:00      4620.09        MEDIUM\n",
       "11662   VIC1  31/08/2021 23:30      4834.00        MEDIUM\n",
       "11663   VIC1    1/09/2021 0:00      4811.27        MEDIUM\n",
       "\n",
       "[11664 rows x 4 columns]"
      ]
     },
     "metadata": {},
     "output_type": "display_data"
    }
   ],
   "source": [
    "df = pd.read_csv('price_demand_data.csv')\n",
    "display(df)"
   ]
  },
  {
   "cell_type": "code",
   "execution_count": 264,
   "metadata": {},
   "outputs": [
    {
     "name": "stdout",
     "output_type": "stream",
     "text": [
      "      REGION    SETTLEMENTDATE  TOTALDEMAND PRICECATEGORY  part\n",
      "0       VIC1    1/01/2021 0:30      4179.21           LOW     0\n",
      "1       VIC1    1/01/2021 1:00      4047.76           LOW     0\n",
      "2       VIC1    1/01/2021 1:30      3934.70           LOW     0\n",
      "3       VIC1    1/01/2021 2:00      3766.45           LOW     0\n",
      "4       VIC1    1/01/2021 2:30      3590.37           LOW     0\n",
      "...      ...               ...          ...           ...   ...\n",
      "11659   VIC1  31/08/2021 22:00      4861.91        MEDIUM   242\n",
      "11660   VIC1  31/08/2021 22:30      4748.74        MEDIUM   242\n",
      "11661   VIC1  31/08/2021 23:00      4620.09        MEDIUM   242\n",
      "11662   VIC1  31/08/2021 23:30      4834.00        MEDIUM   242\n",
      "11663   VIC1    1/09/2021 0:00      4811.27        MEDIUM   242\n",
      "\n",
      "[11664 rows x 5 columns]\n"
     ]
    }
   ],
   "source": [
    "'''\n",
    "How to find max value per each 48 row in csv format\n",
    "'''\n",
    "df['part'] = df.index // 48\n",
    "print(df)"
   ]
  },
  {
   "cell_type": "code",
   "execution_count": 272,
   "metadata": {},
   "outputs": [
    {
     "name": "stdout",
     "output_type": "stream",
     "text": [
      "     index REGION    SETTLEMENTDATE  TOTALDEMAND PRICECATEGORY  part\n",
      "0       34   VIC1   1/01/2021 17:30      5019.64           LOW     0\n",
      "1       81   VIC1   2/01/2021 17:00      4964.35           LOW     1\n",
      "2      132   VIC1   3/01/2021 18:30      4503.31           LOW     2\n",
      "3      180   VIC1   4/01/2021 18:30      4764.18           LOW     3\n",
      "4      225   VIC1   5/01/2021 17:00      4800.64           LOW     4\n",
      "..     ...    ...               ...          ...           ...   ...\n",
      "238  11461   VIC1  27/08/2021 19:00      6769.89          HIGH   238\n",
      "239  11509   VIC1  28/08/2021 19:00      5716.32        MEDIUM   239\n",
      "240  11557   VIC1  29/08/2021 19:00      6227.89       EXTREME   240\n",
      "241  11604   VIC1  30/08/2021 18:30      6072.91        MEDIUM   241\n",
      "242  11653   VIC1  31/08/2021 19:00      5779.56        MEDIUM   242\n",
      "\n",
      "[243 rows x 6 columns]\n"
     ]
    }
   ],
   "source": [
    "'''\n",
    "Display whole row for max TOTALDEMAND\n",
    "'''\n",
    "result = df.groupby('part')['TOTALDEMAND'].transform(max) == df['TOTALDEMAND']\n",
    "#df = pd.reset_index(drop=True)\n",
    "result = df[result].reset_index()\n",
    "print(result)"
   ]
  },
  {
   "cell_type": "code",
   "execution_count": 273,
   "metadata": {},
   "outputs": [],
   "source": [
    "'''\n",
    "export df 'result' file to csv\n",
    "'''\n",
    "result.to_csv('MAX_PRICE_DEMAND_DATA.csv')"
   ]
  },
  {
   "cell_type": "code",
   "execution_count": 21,
   "metadata": {},
   "outputs": [],
   "source": [
    "\n"
   ]
  }
 ],
 "metadata": {
  "kernelspec": {
   "display_name": "Python 3 (ipykernel)",
   "language": "python",
   "name": "python3"
  },
  "language_info": {
   "codemirror_mode": {
    "name": "ipython",
    "version": 3
   },
   "file_extension": ".py",
   "mimetype": "text/x-python",
   "name": "python",
   "nbconvert_exporter": "python",
   "pygments_lexer": "ipython3",
   "version": "3.9.12"
  }
 },
 "nbformat": 4,
 "nbformat_minor": 4
}
