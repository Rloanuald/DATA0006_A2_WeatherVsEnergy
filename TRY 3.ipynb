{
 "cells": [
  {
   "cell_type": "code",
   "execution_count": null,
   "metadata": {},
   "outputs": [],
   "source": [
    "import pandas as pd\n",
    "import datetime as dt\n",
    "\n",
    "dataset1 = pd.read_csv('price_demand_data.csv') # Read CSV file \"price_demand_data.csv\"\n",
    "dataset2 = pd.read_csv('weather_data.csv')\n",
    "display(dataset1)\n",
    "display(dataset2)"
   ]
  },
  {
   "cell_type": "code",
   "execution_count": null,
   "metadata": {},
   "outputs": [],
   "source": [
    "dataset2['Date'] = dataset2['Date'].dt.datetime.strftime(\"%d/%m/%Y\")\n",
    "display(dataset2)"
   ]
  },
  {
   "cell_type": "code",
   "execution_count": null,
   "metadata": {},
   "outputs": [],
   "source": [
    "# Extract date out of timestamp column, named new column of DataFrame as \"DATE\"\n",
    "date_time_1 = list(map(lambda x: dt.datetime.strptime(x,'%d/%m/%Y %H:%M').strftime(\"%d/%m/%Y\"), \\\n",
    "                       dataset1['SETTLEMENTDATE']))\n",
    "dataset1['Date'] = date_time_1\n",
    "display(dataset1.head())"
   ]
  },
  {
   "cell_type": "code",
   "execution_count": null,
   "metadata": {},
   "outputs": [],
   "source": [
    "# Max daily energy use corresponding to each date in new column TOTALDEMAND_MAX \n",
    "dataset1 = dataset1.join(dataset1.groupby('Date')['TOTALDEMAND'].max(), on='Date', rsuffix='_MAX')"
   ]
  },
  {
   "cell_type": "code",
   "execution_count": null,
   "metadata": {},
   "outputs": [],
   "source": [
    "# Replace PRICECATEGORY values with Numeric values in new column PRICE_NUMERIC\n",
    "dataset1['PRICE_NUMERIC'] = dataset1['PRICECATEGORY']\n",
    "dataset1['PRICE_NUMERIC'].replace( {'LOW' : 1, 'MEDIUM' : 2, 'HIGH' : 3, 'EXTREME': 4 }, inplace=True)"
   ]
  },
  {
   "cell_type": "code",
   "execution_count": null,
   "metadata": {},
   "outputs": [],
   "source": [
    "# Max daily price value corresponding to each date in new column PRICE_NUMERIC_MAX \n",
    "dataset1 = dataset1.join(dataset1.groupby('Date')['PRICE_NUMERIC'].max(), on='Date', rsuffix='_MAX') \n",
    "display(dataset1)"
   ]
  },
  {
   "cell_type": "code",
   "execution_count": null,
   "metadata": {},
   "outputs": [],
   "source": [
    "dataset_1 = dataset1[['REGION', 'Date', 'TOTALDEMAND_MAX', 'PRICE_NUMERIC_MAX']].drop_duplicates(subset=['Date'])\n",
    "display(dataset_1)"
   ]
  },
  {
   "cell_type": "code",
   "execution_count": null,
   "metadata": {},
   "outputs": [],
   "source": [
    "dataset = pd.merge(dataset_1, dataset2, on = 'Date')\n",
    "dataset"
   ]
  }
 ],
 "metadata": {
  "kernelspec": {
   "display_name": "Python 3",
   "language": "python",
   "name": "python3"
  },
  "language_info": {
   "codemirror_mode": {
    "name": "ipython",
    "version": 3
   },
   "file_extension": ".py",
   "mimetype": "text/x-python",
   "name": "python",
   "nbconvert_exporter": "python",
   "pygments_lexer": "ipython3",
   "version": "3.7.4"
  }
 },
 "nbformat": 4,
 "nbformat_minor": 4
}
